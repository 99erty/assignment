{
 "cells": [
  {
   "cell_type": "markdown",
   "id": "5ac5019d-fb53-42d2-974a-8b283398c20f",
   "metadata": {},
   "source": [
    "# Data Science Tools and Ecosystem"
   ]
  },
  {
   "cell_type": "markdown",
   "id": "274bbe3c-5153-44ac-b506-814518ee8a0b",
   "metadata": {},
   "source": [
    "In this notebook, Data Science Tools and Ecosystem are summarized.\n"
   ]
  },
  {
   "cell_type": "markdown",
   "id": "5f68d7c6-b9c9-48a8-9a03-c827ece60e0d",
   "metadata": {},
   "source": [
    "**Objectives:**\n",
    "- List popular languages for Data Science\n",
    "- List some of the commonly used libraries used by Data Scientists\n",
    "- List some of the tools data scientists use\n",
    "\n"
   ]
  },
  {
   "cell_type": "markdown",
   "id": "97d2ddd8-e1e4-49b8-9dab-eab47608f647",
   "metadata": {},
   "source": [
    "Some of the popular languages that Data Scientists use are:\n",
    "1. Python\n",
    "2. R\n",
    "3. Java\n"
   ]
  },
  {
   "cell_type": "markdown",
   "id": "74bac31f-8d9e-43d6-b407-f323f07d255d",
   "metadata": {},
   "source": [
    "Some of the commonly used libraries used by Data Scientists include:\n",
    "1. Pandas\n",
    "2. Keras\n",
    "3. Seaborn\n"
   ]
  },
  {
   "cell_type": "markdown",
   "id": "2f85fbe6-9b4d-44f8-96bf-4a803da56d88",
   "metadata": {},
   "source": [
    "| Data Science Tools | \n",
    "| -------------| \n",
    "| Julia | \n",
    "| Jupyter Notebook |\n",
    "| Keras|\n"
   ]
  },
  {
   "cell_type": "markdown",
   "id": "07175a85-5dbb-4124-8681-2369924f40ff",
   "metadata": {},
   "source": [
    "###Below are a few examples of evaluating arithmetic expressions in Python\n",
    "2+3\n",
    "7-3\n",
    "4*3\n",
    "6/4"
   ]
  },
  {
   "cell_type": "code",
   "execution_count": 1,
   "id": "031541ee-69cc-437c-ba99-4e45331d1bf0",
   "metadata": {
    "tags": []
   },
   "outputs": [
    {
     "data": {
      "text/plain": [
       "17"
      ]
     },
     "execution_count": 1,
     "metadata": {},
     "output_type": "execute_result"
    }
   ],
   "source": [
    "#This a simple arithmetic expression to mutiply then add integers.\n",
    "(3*4)+5"
   ]
  },
  {
   "cell_type": "code",
   "execution_count": 2,
   "id": "c6314920-03e3-4efc-96c9-95082d05059d",
   "metadata": {
    "tags": []
   },
   "outputs": [
    {
     "data": {
      "text/plain": [
       "3.3333333333333335"
      ]
     },
     "execution_count": 2,
     "metadata": {},
     "output_type": "execute_result"
    }
   ],
   "source": [
    "#This will convert 200 minutes to hours by diving by 60\n",
    "200/60"
   ]
  },
  {
   "cell_type": "markdown",
   "id": "7d9f1134-a429-414e-856e-5b998b45cf93",
   "metadata": {},
   "source": [
    "## Author\n",
    "Egemen Guven\n"
   ]
  },
  {
   "cell_type": "code",
   "execution_count": null,
   "id": "b7e0a5ac-815d-44b1-a23f-d37674c28ef5",
   "metadata": {},
   "outputs": [],
   "source": []
  }
 ],
 "metadata": {
  "kernelspec": {
   "display_name": "Python",
   "language": "python",
   "name": "conda-env-python-py"
  },
  "language_info": {
   "codemirror_mode": {
    "name": "ipython",
    "version": 3
   },
   "file_extension": ".py",
   "mimetype": "text/x-python",
   "name": "python",
   "nbconvert_exporter": "python",
   "pygments_lexer": "ipython3",
   "version": "3.7.12"
  }
 },
 "nbformat": 4,
 "nbformat_minor": 5
}
